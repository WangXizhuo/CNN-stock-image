{
 "cells": [
  {
   "cell_type": "code",
   "execution_count": 18,
   "metadata": {},
   "outputs": [],
   "source": [
    "import pandas as pd\n",
    "import numpy as np\n",
    "import os\n",
    "from tqdm import tqdm\n",
    "import torch\n",
    "import torch.nn as nn\n",
    "import torch.nn.functional as F\n",
    "import warnings\n",
    "import torch.optim as optim\n",
    "from pytorch_lightning.callbacks.early_stopping import EarlyStopping\n",
    "import torch.utils.data as data\n",
    "from torchvision import datasets, transforms\n",
    "warnings.filterwarnings('ignore')"
   ]
  },
  {
   "cell_type": "code",
   "execution_count": 19,
   "metadata": {},
   "outputs": [],
   "source": [
    "# form the training and testing dataset\n",
    "class DataLoader():\n",
    "    IMAGE_WIDTH = 60\n",
    "    IMAGE_HEIGHT = 64\n",
    "    TRAIN_START = 2008\n",
    "    TRAIN_END = 2010\n",
    "    TEST_START = 2001\n",
    "    TEST_END = 2019\n",
    "    rt_day = 5 # number of days for forward looking\n",
    "    train_data = []\n",
    "    test_data = []\n",
    "    positive_count = 0\n",
    "    negative_count = 0\n",
    "\n",
    "    def make_training_data(self):\n",
    "        for year in tqdm(range(self.TRAIN_START, self.TRAIN_END)):\n",
    "            \n",
    "            img_path = os.path.join(\"./monthly_20d\", f\"20d_month_has_vb_[20]_ma_{year}_images.dat\")\n",
    "            images = np.memmap(img_path, \n",
    "                               dtype=np.uint8, \n",
    "                               mode='r').reshape((-1, self.IMAGE_HEIGHT, self.IMAGE_WIDTH))\n",
    "            # print(images.shape)\n",
    "            label_path = os.path.join(\"./monthly_20d\", f\"20d_month_has_vb_[20]_ma_{year}_labels_w_delay.feather\")\n",
    "            label_df = pd.read_feather(label_path)\n",
    "            label_array = np.where(label_df[f\"Ret_{self.rt_day}d\"] > 0, 1, 0)\n",
    "            # print(label_array.shape)\n",
    "            for i in range(images.shape[0]):\n",
    "                self.train_data.append([np.array(images[i]), np.eye(2)[label_array.item(i)]])\n",
    "            print(f\"{year} data finished loading.\")\n",
    "\n",
    "        np.random.shuffle(self.train_data)\n",
    "        np.save(\"train_data.npy\", self.train_data)\n",
    "\n",
    "    def make_testing_data(self):\n",
    "        for year in tqdm(range(self.TEST_START, self.TEST_START+1)):\n",
    "            img_path = os.path.join(\"./monthly_20d\", f\"20d_month_has_vb_[20]_ma_{year}_images.dat\")\n",
    "            images = np.memmap(img_path, \n",
    "                               dtype=np.uint8, \n",
    "                               mode='r').reshape((-1, self.IMAGE_HEIGHT, self.IMAGE_WIDTH))\n",
    "            label_path = os.path.join(\"./monthly_20d\", f\"20d_month_has_vb_[20]_ma_{year}_labels_w_delay.feather\")\n",
    "            label_df = pd.read_feather(label_path)\n",
    "            label_array = np.where(label_df[f\"Ret_{self.rt_day}d\"] > 0, 1, 0)\n",
    "            for i in range(images.shape[0]):\n",
    "                self.test_data.append([np.array(images[i]), np.eye(2)[label_array.item(i)]])\n",
    "            print(f\"{year} data finished loading.\")\n",
    "\n",
    "        # np.random.shuffle(self.train_data)\n",
    "        np.save(\"test_data.npy\", self.test_data)"
   ]
  },
  {
   "cell_type": "code",
   "execution_count": 20,
   "metadata": {},
   "outputs": [
    {
     "name": "stderr",
     "output_type": "stream",
     "text": [
      " 50%|█████     | 1/2 [00:01<00:01,  1.05s/it]"
     ]
    },
    {
     "name": "stdout",
     "output_type": "stream",
     "text": [
      "2008 data finished loading.\n"
     ]
    },
    {
     "name": "stderr",
     "output_type": "stream",
     "text": [
      "100%|██████████| 2/2 [00:01<00:00,  1.23it/s]"
     ]
    },
    {
     "name": "stdout",
     "output_type": "stream",
     "text": [
      "2009 data finished loading.\n"
     ]
    },
    {
     "name": "stderr",
     "output_type": "stream",
     "text": [
      "\n"
     ]
    },
    {
     "name": "stdout",
     "output_type": "stream",
     "text": [
      "148251\n",
      "[[  0   0   0 ...   0   0   0]\n",
      " [  0   0   0 ...   0   0   0]\n",
      " [  0   0   0 ...   0   0   0]\n",
      " ...\n",
      " [  0   0   0 ...   0 255   0]\n",
      " [  0   0   0 ...   0 255   0]\n",
      " [  0 255   0 ...   0 255   0]] [1. 0.]\n"
     ]
    }
   ],
   "source": [
    "data = DataLoader()\n",
    "data.make_training_data()\n",
    "\n",
    "training_data = np.load(\"train_data.npy\", allow_pickle=True)\n",
    "print(len(training_data))\n",
    "print(training_data[0][0], training_data[0][1])\n"
   ]
  },
  {
   "cell_type": "code",
   "execution_count": 21,
   "metadata": {},
   "outputs": [],
   "source": [
    "# from matplotlib import pyplot as plt\n",
    "\n",
    "# for i in range(5):\n",
    "#     print(training_data[i][0], training_data[i][1])\n",
    "#     plt.imshow(training_data[i][0], cmap='gray')\n",
    "#     plt.show()\n",
    "\n"
   ]
  },
  {
   "cell_type": "code",
   "execution_count": 22,
   "metadata": {},
   "outputs": [
    {
     "name": "stderr",
     "output_type": "stream",
     "text": [
      "100%|██████████| 1/1 [00:01<00:00,  1.36s/it]"
     ]
    },
    {
     "name": "stdout",
     "output_type": "stream",
     "text": [
      "2001 data finished loading.\n"
     ]
    },
    {
     "name": "stderr",
     "output_type": "stream",
     "text": [
      "\n"
     ]
    },
    {
     "name": "stdout",
     "output_type": "stream",
     "text": [
      "91985\n",
      "[[  0   0   0 ...   0   0   0]\n",
      " [  0   0   0 ...   0   0   0]\n",
      " [  0   0   0 ...   0   0   0]\n",
      " ...\n",
      " [  0   0   0 ...   0   0   0]\n",
      " [  0   0   0 ...   0   0   0]\n",
      " [  0 255   0 ...   0 255   0]] [1. 0.]\n"
     ]
    }
   ],
   "source": [
    "data = DataLoader()\n",
    "data.make_testing_data()\n",
    "\n",
    "testing_data = np.load(\"test_data.npy\", allow_pickle=True)\n",
    "print(len(testing_data))\n",
    "print(testing_data[0][0], testing_data[0][1])"
   ]
  },
  {
   "cell_type": "code",
   "execution_count": 29,
   "metadata": {},
   "outputs": [],
   "source": [
    "# construct CNN model layers\n",
    "class ConvNet_20day(nn.Module):\n",
    "    def __init__(self, num_classes=2):\n",
    "        super(ConvNet_20day, self).__init__()\n",
    "        self.layer1 = nn.Sequential(\n",
    "            nn.Conv2d(1, 64, kernel_size=(5, 3), stride=(3, 1), dilation=(2, 1), padding=(8, 1)),\n",
    "            # nn.Conv2d(1, 64, kernel_size=(5, 3), padding=(2, 1)),\n",
    "            nn.BatchNorm2d(64),\n",
    "            nn.LeakyReLU(),\n",
    "            nn.MaxPool2d(kernel_size=(2, 1)))\n",
    "\n",
    "        self.layer2 = nn.Sequential(\n",
    "            nn.Conv2d(64, 128, kernel_size=(5, 3), padding=(2, 1)),\n",
    "            nn.BatchNorm2d(128),\n",
    "            nn.LeakyReLU(),\n",
    "            nn.MaxPool2d(kernel_size=(2, 1)))\n",
    "            \n",
    "        self.layer3 = nn.Sequential(\n",
    "            nn.Conv2d(128, 256, kernel_size=(5, 3), padding=(2, 1)),\n",
    "            nn.BatchNorm2d(256),\n",
    "            nn.LeakyReLU(),\n",
    "            nn.MaxPool2d(kernel_size=(2, 1)))\n",
    "            \n",
    "        for m in self.modules():\n",
    "            if isinstance(m, nn.Conv2d):\n",
    "                m.weight.data = nn.init.xavier_uniform(m.weight.data, \n",
    "                                                       gain=nn.init.calculate_gain('leaky_relu')) \n",
    "        \n",
    "        self.fc = nn.Linear(46080, num_classes)\n",
    "        # self.fc = nn.Linear(122880, num_classes)\n",
    "        self.drop = nn.Dropout1d(p=0.5)\n",
    "\n",
    "        \n",
    "\n",
    "        \n",
    "    def forward(self, x):\n",
    "        # print(x.shape)\n",
    "        out = self.layer1(x)\n",
    "        # print(out.shape)\n",
    "        out = self.layer2(out)\n",
    "        # print(out.shape)\n",
    "        out = self.layer3(out)\n",
    "        print(out.shape, out.size(0))\n",
    "        out = out.reshape(out.size(0), -1)\n",
    "        print('dimention after reshape',out.shape)\n",
    "        out = self.fc(out)\n",
    "        out = self.drop(out)\n",
    "        out = F.softmax(out, dim=1)\n",
    "\n",
    "        return out"
   ]
  },
  {
   "cell_type": "code",
   "execution_count": 24,
   "metadata": {},
   "outputs": [],
   "source": [
    "def validation(model, device, valid_X, valid_y, loss_function):\n",
    "\n",
    "    model.eval()\n",
    "    loss_total = 0\n",
    "\n",
    "    with torch.no_grad():\n",
    "        for i in tqdm(range(len(valid_X))):\n",
    "            label = torch.argmax(valid_y[i])\n",
    "            output = model(valid_X[i].view(-1,1,64,60))[0]\n",
    "            loss = loss_function(output, label)\n",
    "            loss_total += loss.item()\n",
    "\n",
    "    return loss_total / len(valid_X)"
   ]
  },
  {
   "cell_type": "code",
   "execution_count": 25,
   "metadata": {},
   "outputs": [],
   "source": [
    "def traindata(device, model, epochs, batch_size, optimizer, loss_function, train_X, train_y, valid_X, valid_y):\n",
    "    # Early stopping parameters\n",
    "    last_loss = 100\n",
    "    patience = 0\n",
    "    triggertimes = 0\n",
    "\n",
    "    for epoch in range(epochs): \n",
    "        model.train()\n",
    "        for times in range(0, len(train_X), batch_size):\n",
    "            batch_X = train_X[times:times+batch_size].view(-1, 1, 64, 60)\n",
    "            batch_y = train_y[times:times+batch_size]\n",
    "\n",
    "            optimizer.zero_grad()\n",
    "            output = model(batch_X)\n",
    "            print(output[0], batch_y[0])\n",
    "            loss = loss_function(output, batch_y)\n",
    "            loss.backward()\n",
    "            optimizer.step()\n",
    "            if times % 1280 == 0 or times == len(train_X):\n",
    "                print('[{}/{}, {}/{}] loss: {:.8}'.format(epoch, epochs, times, len(train_X), \n",
    "                       loss.item()))\n",
    "\n",
    "        # Early stopping\n",
    "        current_loss = validation(model, device, valid_X, valid_y, loss_function)\n",
    "        print('The Current Loss:', current_loss)\n",
    "\n",
    "        if current_loss > last_loss:\n",
    "            trigger_times += 1\n",
    "            print('Trigger Times:', trigger_times)\n",
    "            if trigger_times >= patience:\n",
    "                print('Early stopping!\\nStart to test process.')\n",
    "                return model\n",
    "\n",
    "        else:\n",
    "            print('trigger times: 0')\n",
    "            trigger_times = 0\n",
    "            return model\n",
    "\n",
    "        last_loss = current_loss\n",
    "\n",
    "    return model\n",
    "\n"
   ]
  },
  {
   "cell_type": "code",
   "execution_count": 26,
   "metadata": {},
   "outputs": [],
   "source": [
    "def test(device, model, test_X, test_y):\n",
    "\n",
    "    model.eval()\n",
    "    total = 0\n",
    "    correct = 0\n",
    "    \n",
    "    with torch.no_grad():\n",
    "        for i in tqdm(range(len(test_X))):\n",
    "            real_class = torch.argmax(test_y[i])\n",
    "            output = model(test_X[i].view(-1,1,64,60))[0]\n",
    "            predicted_class = torch.argmax(output)\n",
    "            if predicted_class == real_class:\n",
    "                correct += 1\n",
    "            total += 1\n",
    "\n",
    "    print('Accuracy:', correct / total)"
   ]
  },
  {
   "cell_type": "code",
   "execution_count": 27,
   "metadata": {},
   "outputs": [],
   "source": [
    "def main():\n",
    "    # GPU device\n",
    "    device = 'cuda:0' if torch.cuda.is_available() else 'cpu'\n",
    "    print('Device state:', device)\n",
    "\n",
    "    epochs = 100\n",
    "    batch_size = 128\n",
    "    lr = 1e-5\n",
    "    loss_function = nn.CrossEntropyLoss()\n",
    "    model = ConvNet_20day().to(device)\n",
    "    optimizer = optim.SGD(model.parameters(), lr=lr)\n",
    "    # optimizer = optim.Adam(model.parameters(), lr=lr, weight_decay=0)\n",
    "\n",
    "\n",
    "    valid_size = int(len(training_data) * 0.3)\n",
    "\n",
    "    X = np.array([i[0] for i in training_data])\n",
    "    X = torch.Tensor(X).view(-1, 64, 60)\n",
    "    X = X / 255.0\n",
    "    y = torch.Tensor([i[1] for i in training_data])\n",
    "    train_X, train_y = X[:-valid_size], y[:-valid_size]\n",
    "    valid_X, valid_y = X[-valid_size:], y[-valid_size:]\n",
    "\n",
    "    test_X = np.array([i[0] for i in testing_data])\n",
    "    test_X = torch.Tensor(test_X).view(-1, 64, 60)\n",
    "    test_X = test_X / 255.0\n",
    "    test_y = torch.Tensor([i[1] for i in testing_data])\n",
    "\n",
    "    \n",
    "\n",
    "    # check if the training set is balances\n",
    "    positive = [i for i in train_y if i[0] == 0]\n",
    "    print(f\"{len(train_y)} training samples with {len(positive)} positive return and \" \\\n",
    "          f\"{len(train_y) - len(positive)} negative return. \\nTraining set is well-balanced.\")        \n",
    "\n",
    "    # trainloader = data.DataLoader(trainset, batch_size=batch_size, shuffle=True)\n",
    "    # testloader = data.DataLoader(testing_data, batch_size=batch_size, shuffle=False)\n",
    "    # validloader = data.DataLoader(validset, batch_size=batch_size, shuffle=True)\n",
    "\n",
    "    # Train\n",
    "    model = traindata(device, model, epochs, batch_size, optimizer, loss_function, \n",
    "                      train_X, train_y, valid_X, valid_y)\n",
    "    # Test\n",
    "    test(device, model, valid_X, valid_y)\n",
    "\n",
    "\n",
    "# if __name__ == '__main__':\n",
    "#     main()"
   ]
  },
  {
   "cell_type": "code",
   "execution_count": 30,
   "metadata": {},
   "outputs": [
    {
     "name": "stdout",
     "output_type": "stream",
     "text": [
      "Device state: cpu\n",
      "103776 training samples with 50627 positive return and 53149 negative return. \n",
      "Training set is well-balanced.\n",
      "torch.Size([128, 256, 3, 60]) 128\n",
      "dimention after reshape torch.Size([128, 46080])\n",
      "tensor([0.1310, 0.8690], grad_fn=<SelectBackward0>) tensor([1., 0.])\n",
      "[0/100, 0/103776] loss: 0.70078975\n",
      "torch.Size([128, 256, 3, 60]) 128\n",
      "dimention after reshape torch.Size([128, 46080])\n",
      "tensor([0.5000, 0.5000], grad_fn=<SelectBackward0>) tensor([1., 0.])\n",
      "torch.Size([128, 256, 3, 60]) 128\n",
      "dimention after reshape torch.Size([128, 46080])\n",
      "tensor([0.5000, 0.5000], grad_fn=<SelectBackward0>) tensor([1., 0.])\n",
      "torch.Size([128, 256, 3, 60]) 128\n",
      "dimention after reshape torch.Size([128, 46080])\n",
      "tensor([0.5000, 0.5000], grad_fn=<SelectBackward0>) tensor([0., 1.])\n",
      "torch.Size([128, 256, 3, 60]) 128\n",
      "dimention after reshape torch.Size([128, 46080])\n",
      "tensor([0.2709, 0.7291], grad_fn=<SelectBackward0>) tensor([0., 1.])\n",
      "torch.Size([128, 256, 3, 60]) 128\n",
      "dimention after reshape torch.Size([128, 46080])\n",
      "tensor([0.5000, 0.5000], grad_fn=<SelectBackward0>) tensor([1., 0.])\n",
      "torch.Size([128, 256, 3, 60]) 128\n",
      "dimention after reshape torch.Size([128, 46080])\n",
      "tensor([0.5000, 0.5000], grad_fn=<SelectBackward0>) tensor([0., 1.])\n",
      "torch.Size([128, 256, 3, 60]) 128\n",
      "dimention after reshape torch.Size([128, 46080])\n",
      "tensor([0.5000, 0.5000], grad_fn=<SelectBackward0>) tensor([1., 0.])\n",
      "torch.Size([128, 256, 3, 60]) 128\n",
      "dimention after reshape torch.Size([128, 46080])\n",
      "tensor([0.5000, 0.5000], grad_fn=<SelectBackward0>) tensor([1., 0.])\n",
      "torch.Size([128, 256, 3, 60]) 128\n",
      "dimention after reshape torch.Size([128, 46080])\n",
      "tensor([0.5000, 0.5000], grad_fn=<SelectBackward0>) tensor([1., 0.])\n"
     ]
    },
    {
     "ename": "KeyboardInterrupt",
     "evalue": "",
     "output_type": "error",
     "traceback": [
      "\u001b[0;31m---------------------------------------------------------------------------\u001b[0m",
      "\u001b[0;31mKeyboardInterrupt\u001b[0m                         Traceback (most recent call last)",
      "Cell \u001b[0;32mIn [30], line 2\u001b[0m\n\u001b[1;32m      1\u001b[0m \u001b[38;5;28;01mif\u001b[39;00m \u001b[38;5;18m__name__\u001b[39m \u001b[38;5;241m==\u001b[39m \u001b[38;5;124m'\u001b[39m\u001b[38;5;124m__main__\u001b[39m\u001b[38;5;124m'\u001b[39m:\n\u001b[0;32m----> 2\u001b[0m     main()\n",
      "Cell \u001b[0;32mIn [27], line 41\u001b[0m, in \u001b[0;36mmain\u001b[0;34m()\u001b[0m\n\u001b[1;32m     33\u001b[0m \u001b[38;5;28mprint\u001b[39m(\u001b[38;5;124mf\u001b[39m\u001b[38;5;124m\"\u001b[39m\u001b[38;5;132;01m{\u001b[39;00m\u001b[38;5;28mlen\u001b[39m(train_y)\u001b[38;5;132;01m}\u001b[39;00m\u001b[38;5;124m training samples with \u001b[39m\u001b[38;5;132;01m{\u001b[39;00m\u001b[38;5;28mlen\u001b[39m(positive)\u001b[38;5;132;01m}\u001b[39;00m\u001b[38;5;124m positive return and \u001b[39m\u001b[38;5;124m\"\u001b[39m \\\n\u001b[1;32m     34\u001b[0m       \u001b[38;5;124mf\u001b[39m\u001b[38;5;124m\"\u001b[39m\u001b[38;5;132;01m{\u001b[39;00m\u001b[38;5;28mlen\u001b[39m(train_y) \u001b[38;5;241m-\u001b[39m \u001b[38;5;28mlen\u001b[39m(positive)\u001b[38;5;132;01m}\u001b[39;00m\u001b[38;5;124m negative return. \u001b[39m\u001b[38;5;130;01m\\n\u001b[39;00m\u001b[38;5;124mTraining set is well-balanced.\u001b[39m\u001b[38;5;124m\"\u001b[39m)        \n\u001b[1;32m     36\u001b[0m \u001b[38;5;66;03m# trainloader = data.DataLoader(trainset, batch_size=batch_size, shuffle=True)\u001b[39;00m\n\u001b[1;32m     37\u001b[0m \u001b[38;5;66;03m# testloader = data.DataLoader(testing_data, batch_size=batch_size, shuffle=False)\u001b[39;00m\n\u001b[1;32m     38\u001b[0m \u001b[38;5;66;03m# validloader = data.DataLoader(validset, batch_size=batch_size, shuffle=True)\u001b[39;00m\n\u001b[1;32m     39\u001b[0m \n\u001b[1;32m     40\u001b[0m \u001b[38;5;66;03m# Train\u001b[39;00m\n\u001b[0;32m---> 41\u001b[0m model \u001b[38;5;241m=\u001b[39m \u001b[43mtraindata\u001b[49m\u001b[43m(\u001b[49m\u001b[43mdevice\u001b[49m\u001b[43m,\u001b[49m\u001b[43m \u001b[49m\u001b[43mmodel\u001b[49m\u001b[43m,\u001b[49m\u001b[43m \u001b[49m\u001b[43mepochs\u001b[49m\u001b[43m,\u001b[49m\u001b[43m \u001b[49m\u001b[43mbatch_size\u001b[49m\u001b[43m,\u001b[49m\u001b[43m \u001b[49m\u001b[43moptimizer\u001b[49m\u001b[43m,\u001b[49m\u001b[43m \u001b[49m\u001b[43mloss_function\u001b[49m\u001b[43m,\u001b[49m\u001b[43m \u001b[49m\n\u001b[1;32m     42\u001b[0m \u001b[43m                  \u001b[49m\u001b[43mtrain_X\u001b[49m\u001b[43m,\u001b[49m\u001b[43m \u001b[49m\u001b[43mtrain_y\u001b[49m\u001b[43m,\u001b[49m\u001b[43m \u001b[49m\u001b[43mvalid_X\u001b[49m\u001b[43m,\u001b[49m\u001b[43m \u001b[49m\u001b[43mvalid_y\u001b[49m\u001b[43m)\u001b[49m\n\u001b[1;32m     43\u001b[0m \u001b[38;5;66;03m# Test\u001b[39;00m\n\u001b[1;32m     44\u001b[0m test(device, model, valid_X, valid_y)\n",
      "Cell \u001b[0;32mIn [25], line 17\u001b[0m, in \u001b[0;36mtraindata\u001b[0;34m(device, model, epochs, batch_size, optimizer, loss_function, train_X, train_y, valid_X, valid_y)\u001b[0m\n\u001b[1;32m     15\u001b[0m \u001b[38;5;28mprint\u001b[39m(output[\u001b[38;5;241m0\u001b[39m], batch_y[\u001b[38;5;241m0\u001b[39m])\n\u001b[1;32m     16\u001b[0m loss \u001b[38;5;241m=\u001b[39m loss_function(output, batch_y)\n\u001b[0;32m---> 17\u001b[0m \u001b[43mloss\u001b[49m\u001b[38;5;241;43m.\u001b[39;49m\u001b[43mbackward\u001b[49m\u001b[43m(\u001b[49m\u001b[43m)\u001b[49m\n\u001b[1;32m     18\u001b[0m optimizer\u001b[38;5;241m.\u001b[39mstep()\n\u001b[1;32m     19\u001b[0m \u001b[38;5;28;01mif\u001b[39;00m times \u001b[38;5;241m%\u001b[39m \u001b[38;5;241m1280\u001b[39m \u001b[38;5;241m==\u001b[39m \u001b[38;5;241m0\u001b[39m \u001b[38;5;129;01mor\u001b[39;00m times \u001b[38;5;241m==\u001b[39m \u001b[38;5;28mlen\u001b[39m(train_X):\n",
      "File \u001b[0;32m/opt/homebrew/Caskroom/miniforge/base/lib/python3.9/site-packages/torch/_tensor.py:396\u001b[0m, in \u001b[0;36mTensor.backward\u001b[0;34m(self, gradient, retain_graph, create_graph, inputs)\u001b[0m\n\u001b[1;32m    387\u001b[0m \u001b[39mif\u001b[39;00m has_torch_function_unary(\u001b[39mself\u001b[39m):\n\u001b[1;32m    388\u001b[0m     \u001b[39mreturn\u001b[39;00m handle_torch_function(\n\u001b[1;32m    389\u001b[0m         Tensor\u001b[39m.\u001b[39mbackward,\n\u001b[1;32m    390\u001b[0m         (\u001b[39mself\u001b[39m,),\n\u001b[0;32m   (...)\u001b[0m\n\u001b[1;32m    394\u001b[0m         create_graph\u001b[39m=\u001b[39mcreate_graph,\n\u001b[1;32m    395\u001b[0m         inputs\u001b[39m=\u001b[39minputs)\n\u001b[0;32m--> 396\u001b[0m torch\u001b[39m.\u001b[39;49mautograd\u001b[39m.\u001b[39;49mbackward(\u001b[39mself\u001b[39;49m, gradient, retain_graph, create_graph, inputs\u001b[39m=\u001b[39;49minputs)\n",
      "File \u001b[0;32m/opt/homebrew/Caskroom/miniforge/base/lib/python3.9/site-packages/torch/autograd/__init__.py:173\u001b[0m, in \u001b[0;36mbackward\u001b[0;34m(tensors, grad_tensors, retain_graph, create_graph, grad_variables, inputs)\u001b[0m\n\u001b[1;32m    168\u001b[0m     retain_graph \u001b[39m=\u001b[39m create_graph\n\u001b[1;32m    170\u001b[0m \u001b[39m# The reason we repeat same the comment below is that\u001b[39;00m\n\u001b[1;32m    171\u001b[0m \u001b[39m# some Python versions print out the first line of a multi-line function\u001b[39;00m\n\u001b[1;32m    172\u001b[0m \u001b[39m# calls in the traceback and some print out the last line\u001b[39;00m\n\u001b[0;32m--> 173\u001b[0m Variable\u001b[39m.\u001b[39;49m_execution_engine\u001b[39m.\u001b[39;49mrun_backward(  \u001b[39m# Calls into the C++ engine to run the backward pass\u001b[39;49;00m\n\u001b[1;32m    174\u001b[0m     tensors, grad_tensors_, retain_graph, create_graph, inputs,\n\u001b[1;32m    175\u001b[0m     allow_unreachable\u001b[39m=\u001b[39;49m\u001b[39mTrue\u001b[39;49;00m, accumulate_grad\u001b[39m=\u001b[39;49m\u001b[39mTrue\u001b[39;49;00m)\n",
      "\u001b[0;31mKeyboardInterrupt\u001b[0m: "
     ]
    }
   ],
   "source": [
    "if __name__ == '__main__':\n",
    "    main()"
   ]
  },
  {
   "cell_type": "code",
   "execution_count": null,
   "metadata": {},
   "outputs": [],
   "source": []
  }
 ],
 "metadata": {
  "kernelspec": {
   "display_name": "Python 3.9.13 ('base')",
   "language": "python",
   "name": "python3"
  },
  "language_info": {
   "codemirror_mode": {
    "name": "ipython",
    "version": 3
   },
   "file_extension": ".py",
   "mimetype": "text/x-python",
   "name": "python",
   "nbconvert_exporter": "python",
   "pygments_lexer": "ipython3",
   "version": "3.9.13"
  },
  "orig_nbformat": 4,
  "vscode": {
   "interpreter": {
    "hash": "c6e4e9f98eb68ad3b7c296f83d20e6de614cb42e90992a65aa266555a3137d0d"
   }
  }
 },
 "nbformat": 4,
 "nbformat_minor": 2
}
