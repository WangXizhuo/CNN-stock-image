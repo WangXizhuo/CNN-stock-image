{
 "cells": [
  {
   "cell_type": "code",
   "execution_count": 2,
   "metadata": {},
   "outputs": [],
   "source": [
    "import pandas as pd\n",
    "import numpy as np\n",
    "import os\n",
    "from tqdm import tqdm\n",
    "import torch\n",
    "import torch.nn as nn\n",
    "import torch.nn.functional as F\n",
    "import warnings\n",
    "import torch.optim as optim\n",
    "from pytorch_lightning.callbacks.early_stopping import EarlyStopping\n",
    "import torch.utils.data as data\n",
    "from torchvision import datasets, transforms\n",
    "warnings.filterwarnings('ignore')"
   ]
  },
  {
   "cell_type": "code",
   "execution_count": 3,
   "metadata": {},
   "outputs": [],
   "source": [
    "# form the training and testing dataset\n",
    "class DataLoader():\n",
    "    IMAGE_WIDTH = 60\n",
    "    IMAGE_HEIGHT = 64\n",
    "    TRAIN_START = 1993\n",
    "    TRAIN_END = 2000\n",
    "    TEST_START = 2001\n",
    "    TEST_END = 2019\n",
    "    rt_day = 5 # number of days for forward looking\n",
    "    train_data = []\n",
    "    test_data = []\n",
    "    positive_count = 0\n",
    "    negative_count = 0\n",
    "\n",
    "    def make_training_data(self):\n",
    "        for year in tqdm(range(self.TRAIN_START, self.TRAIN_END+1)):\n",
    "            \n",
    "            img_path = os.path.join(\"./monthly_20d\", f\"20d_month_has_vb_[20]_ma_{year}_images.dat\")\n",
    "            images = np.memmap(img_path, \n",
    "                               dtype=np.uint8, \n",
    "                               mode='r').reshape((-1, self.IMAGE_HEIGHT, self.IMAGE_WIDTH))\n",
    "            # print(images.shape)\n",
    "            label_path = os.path.join(\"./monthly_20d\", f\"20d_month_has_vb_[20]_ma_{year}_labels_w_delay.feather\")\n",
    "            label_df = pd.read_feather(label_path)\n",
    "            label_array = np.where(label_df[f\"Ret_{self.rt_day}d\"] > 0, 1, 0)\n",
    "            # print(label_array.shape)\n",
    "            for i in range(images.shape[0]):\n",
    "                self.train_data.append([np.array(images[i]), np.eye(2)[label_array.item(i)]])\n",
    "            print(f\"{year} data finished loading.\")\n",
    "\n",
    "        np.random.shuffle(self.train_data)\n",
    "        np.save(\"train_data.npy\", self.train_data)\n",
    "\n",
    "    def make_testing_data(self):\n",
    "        for year in tqdm(range(self.TEST_START, self.TEST_END+1)):\n",
    "            img_path = os.path.join(\"./monthly_20d\", f\"20d_month_has_vb_[20]_ma_{year}_images.dat\")\n",
    "            images = np.memmap(img_path, \n",
    "                               dtype=np.uint8, \n",
    "                               mode='r').reshape((-1, self.IMAGE_HEIGHT, self.IMAGE_WIDTH))\n",
    "            label_path = os.path.join(\"./monthly_20d\", f\"20d_month_has_vb_[20]_ma_{year}_labels_w_delay.feather\")\n",
    "            label_df = pd.read_feather(label_path)\n",
    "            label_array = np.where(label_df[f\"Ret_{self.rt_day}d\"] > 0, 1, 0)\n",
    "            for i in range(images.shape[0]):\n",
    "                self.test_data.append([np.array(images[i]), np.eye(2)[label_array.item(i)]])\n",
    "            print(f\"{year} data finished loading.\")\n",
    "        np.save(\"test_data.npy\", self.test_data)"
   ]
  },
  {
   "cell_type": "code",
   "execution_count": 5,
   "metadata": {},
   "outputs": [
    {
     "name": "stderr",
     "output_type": "stream",
     "text": [
      " 12%|█▎        | 1/8 [00:00<00:04,  1.47it/s]"
     ]
    },
    {
     "name": "stdout",
     "output_type": "stream",
     "text": [
      "1993 data finished loading.\n"
     ]
    },
    {
     "name": "stderr",
     "output_type": "stream",
     "text": [
      " 25%|██▌       | 2/8 [00:01<00:04,  1.38it/s]"
     ]
    },
    {
     "name": "stdout",
     "output_type": "stream",
     "text": [
      "1994 data finished loading.\n"
     ]
    },
    {
     "name": "stderr",
     "output_type": "stream",
     "text": [
      " 38%|███▊      | 3/8 [00:02<00:04,  1.20it/s]"
     ]
    },
    {
     "name": "stdout",
     "output_type": "stream",
     "text": [
      "1995 data finished loading.\n"
     ]
    },
    {
     "name": "stderr",
     "output_type": "stream",
     "text": [
      " 50%|█████     | 4/8 [00:03<00:03,  1.19it/s]"
     ]
    },
    {
     "name": "stdout",
     "output_type": "stream",
     "text": [
      "1996 data finished loading.\n"
     ]
    },
    {
     "name": "stderr",
     "output_type": "stream",
     "text": [
      " 62%|██████▎   | 5/8 [00:04<00:02,  1.04it/s]"
     ]
    },
    {
     "name": "stdout",
     "output_type": "stream",
     "text": [
      "1997 data finished loading.\n"
     ]
    },
    {
     "name": "stderr",
     "output_type": "stream",
     "text": [
      " 75%|███████▌  | 6/8 [00:06<00:02,  1.18s/it]"
     ]
    },
    {
     "name": "stdout",
     "output_type": "stream",
     "text": [
      "1998 data finished loading.\n"
     ]
    },
    {
     "name": "stderr",
     "output_type": "stream",
     "text": [
      " 88%|████████▊ | 7/8 [00:07<00:01,  1.19s/it]"
     ]
    },
    {
     "name": "stdout",
     "output_type": "stream",
     "text": [
      "1999 data finished loading.\n"
     ]
    },
    {
     "name": "stderr",
     "output_type": "stream",
     "text": [
      "100%|██████████| 8/8 [00:07<00:00,  1.05it/s]"
     ]
    },
    {
     "name": "stdout",
     "output_type": "stream",
     "text": [
      "2000 data finished loading.\n"
     ]
    },
    {
     "name": "stderr",
     "output_type": "stream",
     "text": [
      "\n"
     ]
    }
   ],
   "source": [
    "data = DataLoader()\n",
    "data.make_training_data()\n",
    "\n",
    "training_data = np.load(\"train_data.npy\", allow_pickle=True)\n",
    "# print(len(training_data))\n",
    "# print(training_data[0][0], training_data[0][1])\n"
   ]
  },
  {
   "cell_type": "code",
   "execution_count": 34,
   "metadata": {},
   "outputs": [],
   "source": [
    "# from matplotlib import pyplot as plt\n",
    "\n",
    "# for i in range(5):\n",
    "#     print(training_data[i][0], training_data[i][1])\n",
    "#     plt.imshow(training_data[i][0], cmap='gray')\n",
    "#     plt.show()\n",
    "\n"
   ]
  },
  {
   "cell_type": "code",
   "execution_count": 7,
   "metadata": {},
   "outputs": [
    {
     "name": "stderr",
     "output_type": "stream",
     "text": [
      "  5%|▌         | 1/19 [00:00<00:13,  1.34it/s]"
     ]
    },
    {
     "name": "stdout",
     "output_type": "stream",
     "text": [
      "2001 data finished loading.\n"
     ]
    },
    {
     "name": "stderr",
     "output_type": "stream",
     "text": [
      " 11%|█         | 2/19 [00:01<00:17,  1.04s/it]"
     ]
    },
    {
     "name": "stdout",
     "output_type": "stream",
     "text": [
      "2002 data finished loading.\n"
     ]
    },
    {
     "name": "stderr",
     "output_type": "stream",
     "text": [
      " 16%|█▌        | 3/19 [00:02<00:15,  1.04it/s]"
     ]
    },
    {
     "name": "stdout",
     "output_type": "stream",
     "text": [
      "2003 data finished loading.\n"
     ]
    },
    {
     "name": "stderr",
     "output_type": "stream",
     "text": [
      " 21%|██        | 4/19 [00:03<00:14,  1.04it/s]"
     ]
    },
    {
     "name": "stdout",
     "output_type": "stream",
     "text": [
      "2004 data finished loading.\n"
     ]
    },
    {
     "name": "stderr",
     "output_type": "stream",
     "text": [
      " 26%|██▋       | 5/19 [00:04<00:13,  1.05it/s]"
     ]
    },
    {
     "name": "stdout",
     "output_type": "stream",
     "text": [
      "2005 data finished loading.\n"
     ]
    },
    {
     "name": "stderr",
     "output_type": "stream",
     "text": [
      " 32%|███▏      | 6/19 [00:05<00:12,  1.04it/s]"
     ]
    },
    {
     "name": "stdout",
     "output_type": "stream",
     "text": [
      "2006 data finished loading.\n"
     ]
    },
    {
     "name": "stderr",
     "output_type": "stream",
     "text": [
      " 37%|███▋      | 7/19 [00:06<00:12,  1.01s/it]"
     ]
    },
    {
     "name": "stdout",
     "output_type": "stream",
     "text": [
      "2007 data finished loading.\n"
     ]
    },
    {
     "name": "stderr",
     "output_type": "stream",
     "text": [
      " 42%|████▏     | 8/19 [00:07<00:11,  1.01s/it]"
     ]
    },
    {
     "name": "stdout",
     "output_type": "stream",
     "text": [
      "2008 data finished loading.\n"
     ]
    },
    {
     "name": "stderr",
     "output_type": "stream",
     "text": [
      " 47%|████▋     | 9/19 [00:08<00:09,  1.04it/s]"
     ]
    },
    {
     "name": "stdout",
     "output_type": "stream",
     "text": [
      "2009 data finished loading.\n"
     ]
    },
    {
     "name": "stderr",
     "output_type": "stream",
     "text": [
      " 53%|█████▎    | 10/19 [00:09<00:08,  1.09it/s]"
     ]
    },
    {
     "name": "stdout",
     "output_type": "stream",
     "text": [
      "2010 data finished loading.\n"
     ]
    },
    {
     "name": "stderr",
     "output_type": "stream",
     "text": [
      " 58%|█████▊    | 11/19 [00:10<00:07,  1.12it/s]"
     ]
    },
    {
     "name": "stdout",
     "output_type": "stream",
     "text": [
      "2011 data finished loading.\n"
     ]
    },
    {
     "name": "stderr",
     "output_type": "stream",
     "text": [
      " 63%|██████▎   | 12/19 [00:11<00:05,  1.19it/s]"
     ]
    },
    {
     "name": "stdout",
     "output_type": "stream",
     "text": [
      "2012 data finished loading.\n"
     ]
    },
    {
     "name": "stderr",
     "output_type": "stream",
     "text": [
      " 68%|██████▊   | 13/19 [00:11<00:04,  1.23it/s]"
     ]
    },
    {
     "name": "stdout",
     "output_type": "stream",
     "text": [
      "2013 data finished loading.\n"
     ]
    },
    {
     "name": "stderr",
     "output_type": "stream",
     "text": [
      " 74%|███████▎  | 14/19 [00:13<00:05,  1.07s/it]"
     ]
    },
    {
     "name": "stdout",
     "output_type": "stream",
     "text": [
      "2014 data finished loading.\n"
     ]
    },
    {
     "name": "stderr",
     "output_type": "stream",
     "text": [
      " 79%|███████▉  | 15/19 [00:14<00:03,  1.02it/s]"
     ]
    },
    {
     "name": "stdout",
     "output_type": "stream",
     "text": [
      "2015 data finished loading.\n"
     ]
    },
    {
     "name": "stderr",
     "output_type": "stream",
     "text": [
      " 84%|████████▍ | 16/19 [00:15<00:02,  1.07it/s]"
     ]
    },
    {
     "name": "stdout",
     "output_type": "stream",
     "text": [
      "2016 data finished loading.\n"
     ]
    },
    {
     "name": "stderr",
     "output_type": "stream",
     "text": [
      " 89%|████████▉ | 17/19 [00:15<00:01,  1.13it/s]"
     ]
    },
    {
     "name": "stdout",
     "output_type": "stream",
     "text": [
      "2017 data finished loading.\n"
     ]
    },
    {
     "name": "stderr",
     "output_type": "stream",
     "text": [
      " 95%|█████████▍| 18/19 [00:16<00:00,  1.17it/s]"
     ]
    },
    {
     "name": "stdout",
     "output_type": "stream",
     "text": [
      "2018 data finished loading.\n"
     ]
    },
    {
     "name": "stderr",
     "output_type": "stream",
     "text": [
      "100%|██████████| 19/19 [00:17<00:00,  1.09it/s]"
     ]
    },
    {
     "name": "stdout",
     "output_type": "stream",
     "text": [
      "2019 data finished loading.\n"
     ]
    },
    {
     "name": "stderr",
     "output_type": "stream",
     "text": [
      "\n"
     ]
    }
   ],
   "source": [
    "data = DataLoader()\n",
    "data.make_testing_data()\n",
    "\n",
    "testing_data = np.load(\"test_data.npy\", allow_pickle=True)\n",
    "# print(len(testing_data))\n",
    "# print(testing_data[0][0], testing_data[0][1])"
   ]
  },
  {
   "cell_type": "code",
   "execution_count": 8,
   "metadata": {},
   "outputs": [],
   "source": [
    "# construct CNN model layers\n",
    "class ConvNet_20day(nn.Module):\n",
    "    def __init__(self, num_classes=2):\n",
    "        super(ConvNet_20day, self).__init__()\n",
    "        self.layer1 = nn.Sequential(\n",
    "            nn.Conv2d(1, 64, kernel_size=(5, 3), stride=(3, 1), dilation=(2, 1), padding=(8, 1)),\n",
    "            nn.BatchNorm2d(64),\n",
    "            nn.LeakyReLU(),\n",
    "            nn.MaxPool2d(kernel_size=(2, 1)))\n",
    "\n",
    "        self.layer2 = nn.Sequential(\n",
    "            nn.Conv2d(64, 128, kernel_size=(5, 3), padding=(2, 1)),\n",
    "            nn.BatchNorm2d(128),\n",
    "            nn.LeakyReLU(),\n",
    "            nn.MaxPool2d(kernel_size=(2, 1)))\n",
    "            \n",
    "        self.layer3 = nn.Sequential(\n",
    "            nn.Conv2d(128, 256, kernel_size=(5, 3), padding=(2, 1)),\n",
    "            nn.BatchNorm2d(256),\n",
    "            nn.LeakyReLU(),\n",
    "            nn.MaxPool2d(kernel_size=(2, 1)))\n",
    "            \n",
    "        for m in self.modules():\n",
    "            if isinstance(m, nn.Conv2d):\n",
    "                m.weight.data = nn.init.xavier_uniform(m.weight.data, \n",
    "                                                       gain=nn.init.calculate_gain('leaky_relu')) \n",
    "        \n",
    "        self.fc = nn.Linear(46080, num_classes)\n",
    "        self.drop = nn.Dropout1d(p=0.5)\n",
    "\n",
    "        \n",
    "\n",
    "        \n",
    "    def forward(self, x):\n",
    "        # print(x.shape)\n",
    "        out = self.layer1(x)\n",
    "        # print(out.shape)\n",
    "        out = self.layer2(out)\n",
    "        # print(out.shape)\n",
    "        out = self.layer3(out)\n",
    "        # print(out.shape, out.size(0))\n",
    "        out = out.reshape(out.size(0), -1)\n",
    "        # print('dimention after reshape',out.shape)\n",
    "        out = self.fc(out)\n",
    "        out = self.drop(out)\n",
    "        out = F.softmax(out, dim=1)\n",
    "\n",
    "        return out"
   ]
  },
  {
   "cell_type": "code",
   "execution_count": 9,
   "metadata": {},
   "outputs": [],
   "source": [
    "def validation(model, device, valid_X, valid_y, loss_function):\n",
    "\n",
    "    model.eval()\n",
    "    loss_total = 0\n",
    "\n",
    "    with torch.no_grad():\n",
    "        for i in tqdm(range(len(valid_X))):\n",
    "            label = torch.argmax(valid_y[i])\n",
    "            output = model(valid_X[i].view(-1,1,64,60))[0]\n",
    "            loss = loss_function(output, label)\n",
    "            loss_total += loss.item()\n",
    "\n",
    "    return loss_total / len(valid_X)"
   ]
  },
  {
   "cell_type": "code",
   "execution_count": 10,
   "metadata": {},
   "outputs": [],
   "source": [
    "def traindata(device, model, epochs, batch_size, optimizer, loss_function, train_X, train_y, valid_X, valid_y):\n",
    "    # Early stopping parameters\n",
    "    last_loss = 100\n",
    "    patience = 0\n",
    "    triggertimes = 0\n",
    "\n",
    "    for epoch in range(epochs): \n",
    "        model.train()\n",
    "        for times in range(0, len(train_X), batch_size):\n",
    "            batch_X = train_X[times:times+batch_size].view(-1, 1, 64, 60)\n",
    "            batch_y = train_y[times:times+batch_size]\n",
    "\n",
    "            optimizer.zero_grad()\n",
    "            output = model(batch_X)\n",
    "            # print(output[0], batch_y[0])\n",
    "            loss = loss_function(output, batch_y)\n",
    "            loss.backward()\n",
    "            optimizer.step()\n",
    "            if times % 1280 == 0 or times == len(train_X):\n",
    "                print('[{}/{}, {}/{}] loss: {:.8}'.format(epoch, epochs, times, len(train_X), \n",
    "                       loss.item()))\n",
    "\n",
    "        # Early stopping\n",
    "        current_loss = validation(model, device, valid_X, valid_y, loss_function)\n",
    "        print('The Current Loss:', current_loss)\n",
    "\n",
    "        if current_loss > last_loss:\n",
    "            trigger_times += 1\n",
    "            print('Trigger Times:', trigger_times)\n",
    "            if trigger_times >= patience:\n",
    "                print('Early stopping!\\nStart to test process.')\n",
    "                return model\n",
    "\n",
    "        else:\n",
    "            print('trigger times: 0')\n",
    "            trigger_times = 0\n",
    "            return model\n",
    "\n",
    "        last_loss = current_loss\n",
    "\n",
    "    return model\n",
    "\n"
   ]
  },
  {
   "cell_type": "code",
   "execution_count": 11,
   "metadata": {},
   "outputs": [],
   "source": [
    "def test(device, model, test_X, test_y):\n",
    "\n",
    "    model.eval()\n",
    "    total = 0\n",
    "    correct = 0\n",
    "    \n",
    "    with torch.no_grad():\n",
    "        for i in tqdm(range(len(test_X))):\n",
    "            real_class = torch.argmax(test_y[i])\n",
    "            output = model(test_X[i].view(-1,1,64,60))[0]\n",
    "            predicted_class = torch.argmax(output)\n",
    "            if predicted_class == real_class:\n",
    "                correct += 1\n",
    "            total += 1\n",
    "\n",
    "    print('Accuracy:', correct / total)"
   ]
  },
  {
   "cell_type": "code",
   "execution_count": 12,
   "metadata": {},
   "outputs": [],
   "source": [
    "def main():\n",
    "    # GPU device\n",
    "    device = 'cuda:0' if torch.cuda.is_available() else 'cpu'\n",
    "    print('Device state:', device)\n",
    "\n",
    "    epochs = 100\n",
    "    batch_size = 128\n",
    "    lr = 1e-5\n",
    "    loss_function = nn.CrossEntropyLoss()\n",
    "    model = ConvNet_20day().to(device)\n",
    "    \n",
    "    optimizer = optim.SGD(model.parameters(), lr=lr)\n",
    "    # optimizer = optim.Adam(model.parameters(), lr=lr, weight_decay=0)\n",
    "\n",
    "\n",
    "    valid_size = int(len(training_data) * 0.3)\n",
    "\n",
    "    X = np.array([i[0] for i in training_data])\n",
    "    X = torch.Tensor(X).view(-1, 64, 60)\n",
    "    X = X / 255.0\n",
    "    y = torch.Tensor([i[1] for i in training_data])\n",
    "    train_X, train_y = X[:-valid_size], y[:-valid_size]\n",
    "    valid_X, valid_y = X[-valid_size:], y[-valid_size:]\n",
    "\n",
    "    test_X = np.array([i[0] for i in testing_data])\n",
    "    test_X = torch.Tensor(test_X).view(-1, 64, 60)\n",
    "    test_X = test_X / 255.0\n",
    "    test_y = torch.Tensor([i[1] for i in testing_data])\n",
    "\n",
    "    \n",
    "\n",
    "    # check if the training set is balances\n",
    "    positive = [i for i in train_y if i[0] == 0]\n",
    "    print(f\"{len(train_y)} training samples with {len(positive)} positive return and \" \\\n",
    "          f\"{len(train_y) - len(positive)} negative return. \\nTraining set is well-balanced.\")        \n",
    "\n",
    "\n",
    "    # Train\n",
    "    model = traindata(device, model, epochs, batch_size, optimizer, loss_function, \n",
    "                      train_X, train_y, valid_X, valid_y)\n",
    "    # Test\n",
    "    test(device, model, valid_X, valid_y)\n"
   ]
  },
  {
   "cell_type": "code",
   "execution_count": 13,
   "metadata": {},
   "outputs": [],
   "source": [
    "# if __name__ == '__main__':\n",
    "#     main()"
   ]
  },
  {
   "cell_type": "code",
   "execution_count": null,
   "metadata": {},
   "outputs": [],
   "source": []
  }
 ],
 "metadata": {
  "kernelspec": {
   "display_name": "Python 3.9.13 ('base')",
   "language": "python",
   "name": "python3"
  },
  "language_info": {
   "codemirror_mode": {
    "name": "ipython",
    "version": 3
   },
   "file_extension": ".py",
   "mimetype": "text/x-python",
   "name": "python",
   "nbconvert_exporter": "python",
   "pygments_lexer": "ipython3",
   "version": "3.9.13"
  },
  "orig_nbformat": 4,
  "vscode": {
   "interpreter": {
    "hash": "c6e4e9f98eb68ad3b7c296f83d20e6de614cb42e90992a65aa266555a3137d0d"
   }
  }
 },
 "nbformat": 4,
 "nbformat_minor": 2
}
